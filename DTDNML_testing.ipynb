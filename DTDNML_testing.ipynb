{
 "cells": [
  {
   "cell_type": "code",
   "execution_count": 1,
   "id": "5a192691",
   "metadata": {},
   "outputs": [],
   "source": [
    "import os\n",
    "from model import dtdnml\n",
    "from data import get_dataloader\n",
    "from model import create_model\n",
    "from options.train_options import TrainOptions\n",
    "from options.base_options import BaseOptions\n",
    "\n",
    "%load_ext autoreload\n",
    "%autoreload 2"
   ]
  },
  {
   "cell_type": "code",
   "execution_count": 2,
   "id": "cd415e1b",
   "metadata": {},
   "outputs": [
    {
     "name": "stderr",
     "output_type": "stream",
     "text": [
      "usage: ipykernel_launcher.py [-h] [--name NAME]\n",
      "                             [--data_path_name DATA_PATH_NAME]\n",
      "                             [--data_img_name DATA_IMG_NAME]\n",
      "                             [--scale_factor SCALE_FACTOR] [--gpu_ids GPU_IDS]\n",
      "                             [--model_name MODEL_NAME]\n",
      "                             [--checkpoints_dir CHECKPOINTS_DIR]\n",
      "                             [--display_winsize DISPLAY_WINSIZE]\n",
      "                             [--display_id DISPLAY_ID]\n",
      "                             [--display_server DISPLAY_SERVER]\n",
      "                             [--display_env DISPLAY_ENV]\n",
      "                             [--display_port DISPLAY_PORT] [--sigma SIGMA]\n",
      "                             [--batchsize BATCHSIZE] [--nThreads NTHREADS]\n",
      "                             [--lr LR] [--epoch_count EPOCH_COUNT]\n",
      "                             [--which_epoch WHICH_EPOCH] [--niter NITER]\n",
      "                             [--niter_decay NITER_DECAY]\n",
      "                             [--lr_policy LR_POLICY]\n",
      "                             [--lr_decay_iters LR_DECAY_ITERS]\n",
      "                             [--lr_decay_gamma LR_DECAY_GAMMA]\n",
      "                             [--lr_decay_patience LR_DECAY_PATIENCE]\n",
      "                             [--save_epoch_freq SAVE_EPOCH_FREQ]\n",
      "                             [--display_freq DISPLAY_FREQ]\n",
      "                             [--display_ncols DISPLAY_NCOLS]\n",
      "                             [--print_freq PRINT_FREQ] [--lambda_A LAMBDA_A]\n",
      "                             [--lambda_B LAMBDA_B] [--lambda_C LAMBDA_C]\n",
      "                             [--lambda_D LAMBDA_D] [--num_theta NUM_THETA]\n",
      "                             [--avg_crite AVG_CRITE] [--isCalSP ISCALSP]\n",
      "ipykernel_launcher.py: error: unrecognized arguments: --f=/run/user/0/jupyter/runtime/kernel-v3283416d260fea3348d7344f40c572503ec3ee4a3.json\n"
     ]
    },
    {
     "ename": "SystemExit",
     "evalue": "2",
     "output_type": "error",
     "traceback": [
      "An exception has occurred, use %tb to see the full traceback.\n",
      "\u001b[0;31mSystemExit\u001b[0m\u001b[0;31m:\u001b[0m 2\n"
     ]
    },
    {
     "name": "stderr",
     "output_type": "stream",
     "text": [
      "/root/dev/DTDNML/venv/lib/python3.11/site-packages/IPython/core/interactiveshell.py:3516: UserWarning: To exit: use 'exit', 'quit', or Ctrl-D.\n",
      "  warn(\"To exit: use 'exit', 'quit', or Ctrl-D.\", stacklevel=1)\n"
     ]
    }
   ],
   "source": [
    "# os.environ['PYTORCH_CUDA_ALLOC_CONF'] = 'expandable_segments:True'\n",
    "\n",
    "train_opt = TrainOptions().parse()\n",
    "\n"
   ]
  },
  {
   "cell_type": "code",
   "execution_count": 12,
   "id": "0a49fe29",
   "metadata": {},
   "outputs": [
    {
     "ename": "SystemExit",
     "evalue": "2",
     "output_type": "error",
     "traceback": [
      "\u001b[0;31m---------------------------------------------------------------------------\u001b[0m",
      "\u001b[0;31mSystemExit\u001b[0m                                Traceback (most recent call last)",
      "Cell \u001b[0;32mIn[11], line 3\u001b[0m\n\u001b[1;32m      1\u001b[0m \u001b[38;5;66;03m# os.environ['PYTORCH_CUDA_ALLOC_CONF'] = 'expandable_segments:True'\u001b[39;00m\n\u001b[0;32m----> 3\u001b[0m train_opt \u001b[38;5;241m=\u001b[39m \u001b[43mTrainOptions\u001b[49m\u001b[43m(\u001b[49m\u001b[43m)\u001b[49m\u001b[38;5;241;43m.\u001b[39;49m\u001b[43mparse\u001b[49m\u001b[43m(\u001b[49m\u001b[43m)\u001b[49m\n",
      "File \u001b[0;32m~/dev/python/DTDNML/options/base_options.py:37\u001b[0m, in \u001b[0;36mBaseOptions.parse\u001b[0;34m(self)\u001b[0m\n\u001b[1;32m     36\u001b[0m     \u001b[38;5;28;01mdef\u001b[39;00m\u001b[38;5;250m \u001b[39m\u001b[38;5;21mparse\u001b[39m(\u001b[38;5;28mself\u001b[39m):\n\u001b[0;32m---> 37\u001b[0m         opt \u001b[38;5;241m=\u001b[39m \u001b[38;5;28;43mself\u001b[39;49m\u001b[38;5;241;43m.\u001b[39;49m\u001b[43mgater_options\u001b[49m\u001b[43m(\u001b[49m\u001b[43m)\u001b[49m\n\u001b[1;32m     38\u001b[0m         opt\u001b[38;5;241m.\u001b[39misTrain \u001b[38;5;241m=\u001b[39m \u001b[38;5;28mself\u001b[39m\u001b[38;5;241m.\u001b[39misTrain\n\u001b[1;32m     40\u001b[0m \u001b[38;5;66;03m#        self.print_options(opt)\u001b[39;00m\n\u001b[1;32m     41\u001b[0m \n\u001b[1;32m     42\u001b[0m         \u001b[38;5;66;03m# set gpu ids\u001b[39;00m\n",
      "File \u001b[0;32m~/dev/python/DTDNML/options/base_options.py:73\u001b[0m, in \u001b[0;36mBaseOptions.gater_options\u001b[0;34m(self)\u001b[0m\n\u001b[1;32m     69\u001b[0m \u001b[38;5;66;03m# assert(opt.data_name == opt.dataset_name.split('_')[1])\u001b[39;00m\n\u001b[1;32m     71\u001b[0m \u001b[38;5;28mself\u001b[39m\u001b[38;5;241m.\u001b[39mparser \u001b[38;5;241m=\u001b[39m parser\n\u001b[0;32m---> 73\u001b[0m \u001b[38;5;28;01mreturn\u001b[39;00m \u001b[43mparser\u001b[49m\u001b[38;5;241;43m.\u001b[39;49m\u001b[43mparse_args\u001b[49m\u001b[43m(\u001b[49m\u001b[43m)\u001b[49m\n",
      "File \u001b[0;32m/usr/lib/python3.10/argparse.py:1848\u001b[0m, in \u001b[0;36mArgumentParser.parse_args\u001b[0;34m(self, args, namespace)\u001b[0m\n\u001b[1;32m   1846\u001b[0m \u001b[38;5;28;01mif\u001b[39;00m argv:\n\u001b[1;32m   1847\u001b[0m     msg \u001b[38;5;241m=\u001b[39m _(\u001b[38;5;124m'\u001b[39m\u001b[38;5;124munrecognized arguments: \u001b[39m\u001b[38;5;132;01m%s\u001b[39;00m\u001b[38;5;124m'\u001b[39m)\n\u001b[0;32m-> 1848\u001b[0m     \u001b[38;5;28;43mself\u001b[39;49m\u001b[38;5;241;43m.\u001b[39;49m\u001b[43merror\u001b[49m\u001b[43m(\u001b[49m\u001b[43mmsg\u001b[49m\u001b[43m \u001b[49m\u001b[38;5;241;43m%\u001b[39;49m\u001b[43m \u001b[49m\u001b[38;5;124;43m'\u001b[39;49m\u001b[38;5;124;43m \u001b[39;49m\u001b[38;5;124;43m'\u001b[39;49m\u001b[38;5;241;43m.\u001b[39;49m\u001b[43mjoin\u001b[49m\u001b[43m(\u001b[49m\u001b[43margv\u001b[49m\u001b[43m)\u001b[49m\u001b[43m)\u001b[49m\n\u001b[1;32m   1849\u001b[0m \u001b[38;5;28;01mreturn\u001b[39;00m args\n",
      "File \u001b[0;32m/usr/lib/python3.10/argparse.py:2606\u001b[0m, in \u001b[0;36mArgumentParser.error\u001b[0;34m(self, message)\u001b[0m\n\u001b[1;32m   2604\u001b[0m \u001b[38;5;28mself\u001b[39m\u001b[38;5;241m.\u001b[39mprint_usage(_sys\u001b[38;5;241m.\u001b[39mstderr)\n\u001b[1;32m   2605\u001b[0m args \u001b[38;5;241m=\u001b[39m {\u001b[38;5;124m'\u001b[39m\u001b[38;5;124mprog\u001b[39m\u001b[38;5;124m'\u001b[39m: \u001b[38;5;28mself\u001b[39m\u001b[38;5;241m.\u001b[39mprog, \u001b[38;5;124m'\u001b[39m\u001b[38;5;124mmessage\u001b[39m\u001b[38;5;124m'\u001b[39m: message}\n\u001b[0;32m-> 2606\u001b[0m \u001b[38;5;28;43mself\u001b[39;49m\u001b[38;5;241;43m.\u001b[39;49m\u001b[43mexit\u001b[49m\u001b[43m(\u001b[49m\u001b[38;5;241;43m2\u001b[39;49m\u001b[43m,\u001b[49m\u001b[43m \u001b[49m\u001b[43m_\u001b[49m\u001b[43m(\u001b[49m\u001b[38;5;124;43m'\u001b[39;49m\u001b[38;5;132;43;01m%(prog)s\u001b[39;49;00m\u001b[38;5;124;43m: error: \u001b[39;49m\u001b[38;5;132;43;01m%(message)s\u001b[39;49;00m\u001b[38;5;130;43;01m\\n\u001b[39;49;00m\u001b[38;5;124;43m'\u001b[39;49m\u001b[43m)\u001b[49m\u001b[43m \u001b[49m\u001b[38;5;241;43m%\u001b[39;49m\u001b[43m \u001b[49m\u001b[43margs\u001b[49m\u001b[43m)\u001b[49m\n",
      "File \u001b[0;32m/usr/lib/python3.10/argparse.py:2593\u001b[0m, in \u001b[0;36mArgumentParser.exit\u001b[0;34m(self, status, message)\u001b[0m\n\u001b[1;32m   2591\u001b[0m \u001b[38;5;28;01mif\u001b[39;00m message:\n\u001b[1;32m   2592\u001b[0m     \u001b[38;5;28mself\u001b[39m\u001b[38;5;241m.\u001b[39m_print_message(message, _sys\u001b[38;5;241m.\u001b[39mstderr)\n\u001b[0;32m-> 2593\u001b[0m \u001b[43m_sys\u001b[49m\u001b[38;5;241;43m.\u001b[39;49m\u001b[43mexit\u001b[49m\u001b[43m(\u001b[49m\u001b[43mstatus\u001b[49m\u001b[43m)\u001b[49m\n",
      "\u001b[0;31mSystemExit\u001b[0m: 2"
     ]
    }
   ],
   "source": [
    "%tb"
   ]
  },
  {
   "cell_type": "code",
   "execution_count": null,
   "id": "16641758",
   "metadata": {},
   "outputs": [],
   "source": [
    "trained_model = create_model(train_opt, train_dataloader.hsi_channels,\n",
    "                               train_dataloader.msi_channels,\n",
    "                               train_dataloader.lrhsi_height,\n",
    "                               train_dataloader.lrhsi_width,\n",
    "                               train_dataloader.sp_matrix,\n",
    "                               train_dataloader.sp_range)\n",
    "\n",
    "trained_model.load_networks(2720)"
   ]
  }
 ],
 "metadata": {
  "kernelspec": {
   "display_name": "venv",
   "language": "python",
   "name": "python3"
  },
  "language_info": {
   "codemirror_mode": {
    "name": "ipython",
    "version": 3
   },
   "file_extension": ".py",
   "mimetype": "text/x-python",
   "name": "python",
   "nbconvert_exporter": "python",
   "pygments_lexer": "ipython3",
   "version": "3.11.11"
  }
 },
 "nbformat": 4,
 "nbformat_minor": 5
}
